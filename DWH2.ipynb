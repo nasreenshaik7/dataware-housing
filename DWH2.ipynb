{
 "cells": [
  {
   "cell_type": "markdown",
   "id": "a59f2893",
   "metadata": {},
   "source": [
    "# scenario I\n"
   ]
  },
  {
   "cell_type": "markdown",
   "id": "cc7057c0",
   "metadata": {},
   "source": [
    "Q1.\n",
    "    option a:\n",
    "     strengths :adding two instructors by representing instructorteam ,will give clear information\n",
    "                about the data in fact table there will be no missing of real information.\n",
    "     weakness   :as mentioned  in data the grain of one row per student per course enrollment.\n",
    "                 There will be a single fact measurement column, EnrollmentCount. Its value will \n",
    "                 always be equal to 1. it will disturb this condition\n",
    "    option b:  \n",
    "    strengths:Change the grain of the fact table to be one row per student enrollment per course\n",
    "              per instructor. For example, there will be two fact rows for each student enrolled \n",
    "              in CS 276a, one that points to Manning as an instructor and one that points to Raghavan.\n",
    "              However, each of the two rows will have a value of 0.5 in the EnrollmentCount field \n",
    "              instead of a value of 1, in order to allow the fact to aggregate properly.\n",
    "                 Is a good one  EnrollmentCount value will always be equal to 1. it will disturb this\n",
    "              condition\n",
    "    weakness:It disturb condition as mentioned  in data the grain of one row per student per course \n",
    "             enrollment.\n",
    "            \n",
    "    option c\n",
    "     strengths: good approach as per normalised one \n",
    "     weakness: needs have two fact tables "
   ]
  },
  {
   "cell_type": "markdown",
   "id": "6a58ceea",
   "metadata": {},
   "source": [
    "2Q \n",
    "   option c is better approch to follow ,because its good to have two fact tables with less joins\n",
    "as normalized approach "
   ]
  },
  {
   "cell_type": "markdown",
   "id": "3a7f20b4",
   "metadata": {},
   "source": [
    "3Q\n",
    "    if the majority of classes had multiple instructors and  if only one or two classes had multiple \n",
    "instructors\n",
    "      option c is better approch to follow ,because its good to have two fact tables with less joins\n",
    "as normalized approach "
   ]
  },
  {
   "cell_type": "markdown",
   "id": "00e71886",
   "metadata": {},
   "source": [
    "Q4 optional"
   ]
  },
  {
   "cell_type": "markdown",
   "id": "1af82eb8",
   "metadata": {},
   "source": [
    "5Q  \n",
    "option a:\n",
    " strengths :simple way to keep the new scores\n",
    " weakness: by overwriting the previours data will be\n",
    "          lost so cannot track the changes happend .\n",
    "option b:\n",
    " strengths:simple and speedy way to handle by creating row with \n",
    "           updated scores\n",
    " weakness:it will cause increase of fact tables size every time updated\n",
    "\n",
    "option c:\n",
    " strengths:gives clear infomation of activity and profitability scores.\n",
    " weakness: update of entire CustomerScores table is required when score changes \n",
    "    \n",
    "option d:\n",
    " strengths:having foreign key column is better way to update the data when score changes \n",
    "           without disturbing the fact table data \n",
    " weakness: less speedy to access data"
   ]
  },
  {
   "cell_type": "markdown",
   "id": "95c311c2",
   "metadata": {},
   "source": [
    "6Q \n",
    "   option d,having foreign key column is better way to update the data when score changes \n",
    "without disturbing the fact table data \n"
   ]
  },
  {
   "cell_type": "markdown",
   "id": "99a4104d",
   "metadata": {},
   "source": [
    "7Q \n",
    " OPTION D is my answer "
   ]
  },
  {
   "cell_type": "code",
   "execution_count": null,
   "id": "ac2641f4",
   "metadata": {},
   "outputs": [],
   "source": []
  }
 ],
 "metadata": {
  "kernelspec": {
   "display_name": "Python 3 (ipykernel)",
   "language": "python",
   "name": "python3"
  },
  "language_info": {
   "codemirror_mode": {
    "name": "ipython",
    "version": 3
   },
   "file_extension": ".py",
   "mimetype": "text/x-python",
   "name": "python",
   "nbconvert_exporter": "python",
   "pygments_lexer": "ipython3",
   "version": "3.9.13"
  }
 },
 "nbformat": 4,
 "nbformat_minor": 5
}
